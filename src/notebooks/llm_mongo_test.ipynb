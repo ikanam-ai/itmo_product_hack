{
 "cells": [
  {
   "cell_type": "code",
   "execution_count": 3,
   "metadata": {},
   "outputs": [
    {
     "data": {
      "text/plain": [
       "True"
      ]
     },
     "execution_count": 3,
     "metadata": {},
     "output_type": "execute_result"
    }
   ],
   "source": [
    "from dotenv import load_dotenv\n",
    "\n",
    "load_dotenv()"
   ]
  },
  {
   "cell_type": "code",
   "execution_count": 4,
   "metadata": {},
   "outputs": [],
   "source": [
    "import os \n",
    "\n",
    "MONGO_USERNAME = os.getenv('MONGO_INITDB_ROOT_USERNAME')\n",
    "MONGO_PASSWORD = os.getenv('MONGO_INITDB_ROOT_PASSWORD')\n",
    "MONGO_HOST = os.getenv('MONGO_HOST')\n",
    "MONGO_PORT = os.getenv('MONGO_INITDB_ROOT_PORT')"
   ]
  },
  {
   "cell_type": "code",
   "execution_count": 10,
   "metadata": {},
   "outputs": [],
   "source": [
    "from pymongo import MongoClient\n",
    "\n",
    "mongo_uri = f\"mongodb://{MONGO_USERNAME}:{MONGO_PASSWORD}@{MONGO_HOST}:{MONGO_PORT}/\"\n",
    "client = MongoClient(mongo_uri)\n",
    "db = client['llm_database']\n",
    "collection = db['dataset_ai']"
   ]
  },
  {
   "cell_type": "code",
   "execution_count": 15,
   "metadata": {},
   "outputs": [],
   "source": [
    "def add_task(task_data, model):\n",
    "    task = {\n",
    "        \"model\": model,\n",
    "        \"prompt\": task_data,\n",
    "        \"status\": \"pending\",\n",
    "        \"response\": None\n",
    "    }\n",
    "    result = collection.insert_one(task)\n",
    "    print(f\"Added task with id: {result.inserted_id}\")\n",
    "    return result.inserted_id"
   ]
  },
  {
   "cell_type": "code",
   "execution_count": 16,
   "metadata": {},
   "outputs": [],
   "source": [
    "import time\n",
    "\n",
    "\n",
    "def wait_for_task_completion(task_id, timeout=300, check_interval=5):\n",
    "    \"\"\"\n",
    "    Ожидает завершения задачи в течение заданного времени.\n",
    "    \n",
    "    :param task_id: ID задачи в базе данных\n",
    "    :param timeout: Максимальное время ожидания (в секундах)\n",
    "    :param check_interval: Интервал проверки статуса задачи (в секундах)\n",
    "    :return: Результат выполнения задачи или сообщение об ошибке\n",
    "    \"\"\"\n",
    "    start_time = time.time()\n",
    "    \n",
    "    while time.time() - start_time < timeout:\n",
    "        # Поиск задачи по ID в коллекции\n",
    "        task = collection.find_one({\"_id\": task_id})\n",
    "        \n",
    "        if task:\n",
    "            status = task.get('status')\n",
    "            if status == 'completed':\n",
    "                # Забираем response при завершении\n",
    "                return task.get('response')\n",
    "            elif status == 'failed':\n",
    "                return {\"Ошибка\": \"Задача завершилась с ошибкой\"}\n",
    "        else:\n",
    "            return {\"Ошибка\": \"Задача не найдена\"}\n",
    "        \n",
    "        # Ждем перед следующей проверкой\n",
    "        time.sleep(check_interval)\n",
    "    \n",
    "    return {\"Ошибка\": \"Превышено время ожидания завершения задачи\"}\n"
   ]
  },
  {
   "cell_type": "code",
   "execution_count": 17,
   "metadata": {},
   "outputs": [],
   "source": [
    "def extract_information(text: str) -> dict:\n",
    "    model = 'qwen2:72b-instruct-q4_0'\n",
    "    try:\n",
    "        # Добавляем задачу в базу\n",
    "        task_id = add_task(text, model)\n",
    "        \n",
    "        # Ожидаем завершения задачи и забираем результат\n",
    "        result = wait_for_task_completion(task_id)\n",
    "        \n",
    "        return result\n",
    "    except Exception as e:\n",
    "        print(f\"Ошибка при обработке: {e}\")\n",
    "        return {\"Ошибка\": \"Не удалось обработать запрос\"}\n"
   ]
  },
  {
   "cell_type": "code",
   "execution_count": 19,
   "metadata": {},
   "outputs": [
    {
     "name": "stdout",
     "output_type": "stream",
     "text": [
      "Added task with id: 66e27d091298a709fe0491f3\n"
     ]
    },
    {
     "data": {
      "text/plain": [
       "{'response_class': '5',\n",
       " 'date': None,\n",
       " 'contacts': '123@email.ru',\n",
       " 'need_more_info': False,\n",
       " 'model_response': 'Спасибо за предоставленные контакты. Мы обязательно направим всю необходимую информацию на адрес 123@email.ru для вашего босса. Если возникнут дополнительные вопросы или потребуется помощь, не стесняйтесь обращаться! С уважением, Команда Napoleon IT. Отзывы'}"
      ]
     },
     "execution_count": 19,
     "metadata": {},
     "output_type": "execute_result"
    }
   ],
   "source": [
    "extract_information(\"Давайте напишите моему боссу 123@email.ru\")"
   ]
  },
  {
   "cell_type": "code",
   "execution_count": null,
   "metadata": {},
   "outputs": [],
   "source": []
  }
 ],
 "metadata": {
  "kernelspec": {
   "display_name": "drones",
   "language": "python",
   "name": "python3"
  },
  "language_info": {
   "codemirror_mode": {
    "name": "ipython",
    "version": 3
   },
   "file_extension": ".py",
   "mimetype": "text/x-python",
   "name": "python",
   "nbconvert_exporter": "python",
   "pygments_lexer": "ipython3",
   "version": "3.10.4"
  }
 },
 "nbformat": 4,
 "nbformat_minor": 2
}
